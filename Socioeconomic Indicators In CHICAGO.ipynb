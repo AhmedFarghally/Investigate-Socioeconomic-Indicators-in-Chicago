{
 "cells": [
  {
   "cell_type": "markdown",
   "id": "d7277a2c",
   "metadata": {
    "papermill": {
     "duration": 0.011606,
     "end_time": "2022-09-11T08:05:15.348263",
     "exception": false,
     "start_time": "2022-09-11T08:05:15.336657",
     "status": "completed"
    },
    "tags": []
   },
   "source": [
    "# Project: Investigate Socioeconomic Indicators in Chicago\n",
    "\n",
    "## Table of Contents\n",
    "<ul>\n",
    "<li><a href=\"#intro\">Introduction</a></li>\n",
    "<li><a href=\"#wrangling\">Data Wrangling</a></li>\n",
    "<li><a href=\"#eda\">Exploratory Data Analysis</a></li>\n",
    "<li><a href=\"#conclusions\">Conclusions</a></li>\n",
    "</ul>"
   ]
  },
  {
   "cell_type": "markdown",
   "id": "86343adf",
   "metadata": {
    "papermill": {
     "duration": 0.009909,
     "end_time": "2022-09-11T08:05:15.368728",
     "exception": false,
     "start_time": "2022-09-11T08:05:15.358819",
     "status": "completed"
    },
    "tags": []
   },
   "source": [
    "<a id='intro'></a>\n",
    "## Introduction\n",
    "\n",
    "### Dataset Description \n",
    "\n",
    "The city of Chicago released a dataset of socioeconomic data to the Chicago City Portal. This dataset contains a selection of six socioeconomic indicators of public health significance and a “hardship index,” for each Chicago community area, for the years 2008 – 2012.\n",
    "\n",
    "Scores on the hardship index can range from 1 to 100, with a higher index number representing a greater level of hardship.\n",
    "\n",
    "A detailed description of the dataset can be found on the Data description text file.\n",
    "\n",
    "\n",
    "\n",
    "### Question(s) for Analysis\n",
    "How many community areas in Chicago have a hardship index greater than 50.0?\n",
    "\n",
    "What is the maximum value of hardship index in this dataset?\n",
    "\n",
    "Which community area which has the highest hardship index?\n",
    "\n",
    "Which Chicago community areas have per-capita incomes greater than $60,000?\n",
    "\n",
    " Which Chicago community areas have the highest Percent of housing crowded ?\n",
    " \n",
    " Which Chicago community areas are the richest ?\n",
    " \n",
    " Which Chicago regions need to develope their educational level ?\n",
    "\n",
    "Create a scatter plot using the variables `per_capita_income_` and `hardship_index`. Explain the correlation between the two variables."
   ]
  },
  {
   "cell_type": "markdown",
   "id": "ce5e2d73",
   "metadata": {
    "papermill": {
     "duration": 0.009911,
     "end_time": "2022-09-11T08:05:15.388791",
     "exception": false,
     "start_time": "2022-09-11T08:05:15.378880",
     "status": "completed"
    },
    "tags": []
   },
   "source": [
    "<a id='wrangling'></a>\n",
    "## Data Wrangling\n",
    "\n",
    "In this section of the report, we will load in the data, check for cleanliness, and then trim and clean your dataset for analysis."
   ]
  },
  {
   "cell_type": "code",
   "execution_count": 1,
   "id": "c7ba2ee8",
   "metadata": {
    "execution": {
     "iopub.execute_input": "2022-09-11T08:05:15.411528Z",
     "iopub.status.busy": "2022-09-11T08:05:15.411033Z",
     "iopub.status.idle": "2022-09-11T08:05:29.687124Z",
     "shell.execute_reply": "2022-09-11T08:05:29.685657Z"
    },
    "papermill": {
     "duration": 14.291182,
     "end_time": "2022-09-11T08:05:29.690103",
     "exception": false,
     "start_time": "2022-09-11T08:05:15.398921",
     "status": "completed"
    },
    "tags": []
   },
   "outputs": [
    {
     "name": "stdout",
     "output_type": "stream",
     "text": [
      "Collecting openpyxl\r\n",
      "  Downloading openpyxl-3.0.10-py2.py3-none-any.whl (242 kB)\r\n",
      "\u001b[2K     \u001b[90m━━━━━━━━━━━━━━━━━━━━━━━━━━━━━━━━━━━━━━━\u001b[0m \u001b[32m242.1/242.1 kB\u001b[0m \u001b[31m1.3 MB/s\u001b[0m eta \u001b[36m0:00:00\u001b[0m\r\n",
      "\u001b[?25hCollecting et-xmlfile\r\n",
      "  Downloading et_xmlfile-1.1.0-py3-none-any.whl (4.7 kB)\r\n",
      "Installing collected packages: et-xmlfile, openpyxl\r\n",
      "Successfully installed et-xmlfile-1.1.0 openpyxl-3.0.10\r\n",
      "\u001b[33mWARNING: Running pip as the 'root' user can result in broken permissions and conflicting behaviour with the system package manager. It is recommended to use a virtual environment instead: https://pip.pypa.io/warnings/venv\u001b[0m\u001b[33m\r\n",
      "\u001b[0m"
     ]
    }
   ],
   "source": [
    "# Loading required Library for anaconda\n",
    "! pip install openpyxl \n",
    "# or use !conda install openpyxl ,for anaconda"
   ]
  },
  {
   "cell_type": "code",
   "execution_count": 2,
   "id": "c0fbc637",
   "metadata": {
    "execution": {
     "iopub.execute_input": "2022-09-11T08:05:29.715274Z",
     "iopub.status.busy": "2022-09-11T08:05:29.714827Z",
     "iopub.status.idle": "2022-09-11T08:05:32.191820Z",
     "shell.execute_reply": "2022-09-11T08:05:32.190803Z"
    },
    "papermill": {
     "duration": 2.492605,
     "end_time": "2022-09-11T08:05:32.194787",
     "exception": false,
     "start_time": "2022-09-11T08:05:29.702182",
     "status": "completed"
    },
    "tags": []
   },
   "outputs": [],
   "source": [
    "# Importing required libraries\n",
    "import numpy as np \n",
    "import pandas as pd \n",
    "import seaborn as sns\n",
    "import plotly_express as px\n",
    "import matplotlib.pyplot as plt\n",
    "%matplotlib inline"
   ]
  },
  {
   "cell_type": "code",
   "execution_count": 3,
   "id": "77e7cdf4",
   "metadata": {
    "execution": {
     "iopub.execute_input": "2022-09-11T08:05:32.220779Z",
     "iopub.status.busy": "2022-09-11T08:05:32.219811Z",
     "iopub.status.idle": "2022-09-11T08:05:32.527152Z",
     "shell.execute_reply": "2022-09-11T08:05:32.525459Z"
    },
    "papermill": {
     "duration": 0.323526,
     "end_time": "2022-09-11T08:05:32.529995",
     "exception": false,
     "start_time": "2022-09-11T08:05:32.206469",
     "status": "completed"
    },
    "tags": []
   },
   "outputs": [],
   "source": [
    "# Importing Dataset\n",
    "df = pd.read_excel('../input/socioeconomic-indicators-in-chicago/Socioeconomic Indicators in Chicago.xlsx')"
   ]
  },
  {
   "cell_type": "markdown",
   "id": "1b7d26f0",
   "metadata": {
    "execution": {
     "iopub.execute_input": "2022-09-10T03:40:20.375700Z",
     "iopub.status.busy": "2022-09-10T03:40:20.375184Z",
     "iopub.status.idle": "2022-09-10T03:40:20.607141Z",
     "shell.execute_reply": "2022-09-10T03:40:20.606173Z",
     "shell.execute_reply.started": "2022-09-10T03:40:20.375653Z"
    },
    "papermill": {
     "duration": 0.010696,
     "end_time": "2022-09-11T08:05:32.551815",
     "exception": false,
     "start_time": "2022-09-11T08:05:32.541119",
     "status": "completed"
    },
    "tags": []
   },
   "source": [
    "Note: After loading the excel file on your PC, you can change the file path as follows: pd.read('yourfilepath/filename.xlsx')"
   ]
  },
  {
   "cell_type": "code",
   "execution_count": 4,
   "id": "40e75b98",
   "metadata": {
    "execution": {
     "iopub.execute_input": "2022-09-11T08:05:32.577814Z",
     "iopub.status.busy": "2022-09-11T08:05:32.577389Z",
     "iopub.status.idle": "2022-09-11T08:05:32.605913Z",
     "shell.execute_reply": "2022-09-11T08:05:32.604685Z"
    },
    "papermill": {
     "duration": 0.04448,
     "end_time": "2022-09-11T08:05:32.608657",
     "exception": false,
     "start_time": "2022-09-11T08:05:32.564177",
     "status": "completed"
    },
    "tags": []
   },
   "outputs": [
    {
     "data": {
      "text/html": [
       "<div>\n",
       "<style scoped>\n",
       "    .dataframe tbody tr th:only-of-type {\n",
       "        vertical-align: middle;\n",
       "    }\n",
       "\n",
       "    .dataframe tbody tr th {\n",
       "        vertical-align: top;\n",
       "    }\n",
       "\n",
       "    .dataframe thead th {\n",
       "        text-align: right;\n",
       "    }\n",
       "</style>\n",
       "<table border=\"1\" class=\"dataframe\">\n",
       "  <thead>\n",
       "    <tr style=\"text-align: right;\">\n",
       "      <th></th>\n",
       "      <th>ca</th>\n",
       "      <th>community_area_name</th>\n",
       "      <th>percent_of_housing_crowded</th>\n",
       "      <th>percent_households_below_poverty</th>\n",
       "      <th>percent_aged_16_unemployed</th>\n",
       "      <th>percent_aged_25_without_high_school_diploma</th>\n",
       "      <th>percent_aged_under_18_or_over_64</th>\n",
       "      <th>per_capita_income_</th>\n",
       "      <th>hardship_index</th>\n",
       "    </tr>\n",
       "  </thead>\n",
       "  <tbody>\n",
       "    <tr>\n",
       "      <th>0</th>\n",
       "      <td>1.0</td>\n",
       "      <td>Rogers Park</td>\n",
       "      <td>7.7</td>\n",
       "      <td>23.6</td>\n",
       "      <td>8.7</td>\n",
       "      <td>18.2</td>\n",
       "      <td>27.5</td>\n",
       "      <td>23939</td>\n",
       "      <td>39.0</td>\n",
       "    </tr>\n",
       "    <tr>\n",
       "      <th>1</th>\n",
       "      <td>2.0</td>\n",
       "      <td>West Ridge</td>\n",
       "      <td>7.8</td>\n",
       "      <td>17.2</td>\n",
       "      <td>8.8</td>\n",
       "      <td>20.8</td>\n",
       "      <td>38.5</td>\n",
       "      <td>23040</td>\n",
       "      <td>46.0</td>\n",
       "    </tr>\n",
       "    <tr>\n",
       "      <th>2</th>\n",
       "      <td>3.0</td>\n",
       "      <td>Uptown</td>\n",
       "      <td>3.8</td>\n",
       "      <td>24.0</td>\n",
       "      <td>8.9</td>\n",
       "      <td>11.8</td>\n",
       "      <td>22.2</td>\n",
       "      <td>35787</td>\n",
       "      <td>20.0</td>\n",
       "    </tr>\n",
       "    <tr>\n",
       "      <th>3</th>\n",
       "      <td>4.0</td>\n",
       "      <td>Lincoln Square</td>\n",
       "      <td>3.4</td>\n",
       "      <td>10.9</td>\n",
       "      <td>8.2</td>\n",
       "      <td>13.4</td>\n",
       "      <td>25.5</td>\n",
       "      <td>37524</td>\n",
       "      <td>17.0</td>\n",
       "    </tr>\n",
       "    <tr>\n",
       "      <th>4</th>\n",
       "      <td>5.0</td>\n",
       "      <td>North Center</td>\n",
       "      <td>0.3</td>\n",
       "      <td>7.5</td>\n",
       "      <td>5.2</td>\n",
       "      <td>4.5</td>\n",
       "      <td>26.2</td>\n",
       "      <td>57123</td>\n",
       "      <td>6.0</td>\n",
       "    </tr>\n",
       "  </tbody>\n",
       "</table>\n",
       "</div>"
      ],
      "text/plain": [
       "    ca community_area_name  percent_of_housing_crowded  \\\n",
       "0  1.0         Rogers Park                         7.7   \n",
       "1  2.0          West Ridge                         7.8   \n",
       "2  3.0              Uptown                         3.8   \n",
       "3  4.0      Lincoln Square                         3.4   \n",
       "4  5.0        North Center                         0.3   \n",
       "\n",
       "   percent_households_below_poverty  percent_aged_16_unemployed  \\\n",
       "0                              23.6                         8.7   \n",
       "1                              17.2                         8.8   \n",
       "2                              24.0                         8.9   \n",
       "3                              10.9                         8.2   \n",
       "4                               7.5                         5.2   \n",
       "\n",
       "   percent_aged_25_without_high_school_diploma  \\\n",
       "0                                         18.2   \n",
       "1                                         20.8   \n",
       "2                                         11.8   \n",
       "3                                         13.4   \n",
       "4                                          4.5   \n",
       "\n",
       "   percent_aged_under_18_or_over_64  per_capita_income_  hardship_index  \n",
       "0                              27.5               23939            39.0  \n",
       "1                              38.5               23040            46.0  \n",
       "2                              22.2               35787            20.0  \n",
       "3                              25.5               37524            17.0  \n",
       "4                              26.2               57123             6.0  "
      ]
     },
     "execution_count": 4,
     "metadata": {},
     "output_type": "execute_result"
    }
   ],
   "source": [
    "# Diplay first 5 rows from the data\n",
    "df.head()"
   ]
  },
  {
   "cell_type": "markdown",
   "id": "4feb218d",
   "metadata": {
    "papermill": {
     "duration": 0.010889,
     "end_time": "2022-09-11T08:05:32.630744",
     "exception": false,
     "start_time": "2022-09-11T08:05:32.619855",
     "status": "completed"
    },
    "tags": []
   },
   "source": [
    "\n",
    "### Data Cleaning "
   ]
  },
  {
   "cell_type": "markdown",
   "id": "5390c402",
   "metadata": {
    "papermill": {
     "duration": 0.01124,
     "end_time": "2022-09-11T08:05:32.653406",
     "exception": false,
     "start_time": "2022-09-11T08:05:32.642166",
     "status": "completed"
    },
    "tags": []
   },
   "source": [
    "Let's check if our datasets contain \"null\" values or not?, and if the datasets contain \"null\" values we will process these \"null\" values to get a clean datasets"
   ]
  },
  {
   "cell_type": "code",
   "execution_count": 5,
   "id": "2721c765",
   "metadata": {
    "execution": {
     "iopub.execute_input": "2022-09-11T08:05:32.679054Z",
     "iopub.status.busy": "2022-09-11T08:05:32.678157Z",
     "iopub.status.idle": "2022-09-11T08:05:32.704107Z",
     "shell.execute_reply": "2022-09-11T08:05:32.702496Z"
    },
    "papermill": {
     "duration": 0.041955,
     "end_time": "2022-09-11T08:05:32.706844",
     "exception": false,
     "start_time": "2022-09-11T08:05:32.664889",
     "status": "completed"
    },
    "tags": []
   },
   "outputs": [
    {
     "name": "stdout",
     "output_type": "stream",
     "text": [
      "<class 'pandas.core.frame.DataFrame'>\n",
      "RangeIndex: 78 entries, 0 to 77\n",
      "Data columns (total 9 columns):\n",
      " #   Column                                       Non-Null Count  Dtype  \n",
      "---  ------                                       --------------  -----  \n",
      " 0   ca                                           77 non-null     float64\n",
      " 1   community_area_name                          78 non-null     object \n",
      " 2   percent_of_housing_crowded                   78 non-null     float64\n",
      " 3   percent_households_below_poverty             78 non-null     float64\n",
      " 4   percent_aged_16_unemployed                   78 non-null     float64\n",
      " 5   percent_aged_25_without_high_school_diploma  78 non-null     float64\n",
      " 6   percent_aged_under_18_or_over_64             78 non-null     float64\n",
      " 7   per_capita_income_                           78 non-null     int64  \n",
      " 8   hardship_index                               77 non-null     float64\n",
      "dtypes: float64(7), int64(1), object(1)\n",
      "memory usage: 5.6+ KB\n"
     ]
    }
   ],
   "source": [
    "df.info()"
   ]
  },
  {
   "cell_type": "code",
   "execution_count": 6,
   "id": "bab7337b",
   "metadata": {
    "execution": {
     "iopub.execute_input": "2022-09-11T08:05:32.732232Z",
     "iopub.status.busy": "2022-09-11T08:05:32.731724Z",
     "iopub.status.idle": "2022-09-11T08:05:32.741939Z",
     "shell.execute_reply": "2022-09-11T08:05:32.740979Z"
    },
    "papermill": {
     "duration": 0.0259,
     "end_time": "2022-09-11T08:05:32.744177",
     "exception": false,
     "start_time": "2022-09-11T08:05:32.718277",
     "status": "completed"
    },
    "tags": []
   },
   "outputs": [
    {
     "data": {
      "text/plain": [
       "ca                                             1\n",
       "community_area_name                            0\n",
       "percent_of_housing_crowded                     0\n",
       "percent_households_below_poverty               0\n",
       "percent_aged_16_unemployed                     0\n",
       "percent_aged_25_without_high_school_diploma    0\n",
       "percent_aged_under_18_or_over_64               0\n",
       "per_capita_income_                             0\n",
       "hardship_index                                 1\n",
       "dtype: int64"
      ]
     },
     "execution_count": 6,
     "metadata": {},
     "output_type": "execute_result"
    }
   ],
   "source": [
    "# Check for Null Data\n",
    "df.isnull().sum()"
   ]
  },
  {
   "cell_type": "code",
   "execution_count": 7,
   "id": "a3c2a1c9",
   "metadata": {
    "execution": {
     "iopub.execute_input": "2022-09-11T08:05:32.769653Z",
     "iopub.status.busy": "2022-09-11T08:05:32.768553Z",
     "iopub.status.idle": "2022-09-11T08:05:32.778739Z",
     "shell.execute_reply": "2022-09-11T08:05:32.777262Z"
    },
    "papermill": {
     "duration": 0.02568,
     "end_time": "2022-09-11T08:05:32.781351",
     "exception": false,
     "start_time": "2022-09-11T08:05:32.755671",
     "status": "completed"
    },
    "tags": []
   },
   "outputs": [],
   "source": [
    "# We notice that there are a very few null data whcih we can delete\n",
    "df.dropna(inplace = True)"
   ]
  },
  {
   "cell_type": "code",
   "execution_count": 8,
   "id": "22668a10",
   "metadata": {
    "execution": {
     "iopub.execute_input": "2022-09-11T08:05:32.808233Z",
     "iopub.status.busy": "2022-09-11T08:05:32.807383Z",
     "iopub.status.idle": "2022-09-11T08:05:32.821432Z",
     "shell.execute_reply": "2022-09-11T08:05:32.820245Z"
    },
    "papermill": {
     "duration": 0.030685,
     "end_time": "2022-09-11T08:05:32.824480",
     "exception": false,
     "start_time": "2022-09-11T08:05:32.793795",
     "status": "completed"
    },
    "tags": []
   },
   "outputs": [
    {
     "data": {
      "text/plain": [
       "0"
      ]
     },
     "execution_count": 8,
     "metadata": {},
     "output_type": "execute_result"
    }
   ],
   "source": [
    "# Check for duplicated data\n",
    "df.duplicated().sum()"
   ]
  },
  {
   "cell_type": "markdown",
   "id": "e14b4990",
   "metadata": {
    "papermill": {
     "duration": 0.011302,
     "end_time": "2022-09-11T08:05:32.847336",
     "exception": false,
     "start_time": "2022-09-11T08:05:32.836034",
     "status": "completed"
    },
    "tags": []
   },
   "source": [
    "<a id='eda'></a>\n",
    "## Exploratory Data Analysis\n",
    "\n",
    "Now, we will move to the analysis phase, we will try to ask some questions and find answers to them, and by that we can analysis our data and we can make a strong conclusion about our findings."
   ]
  },
  {
   "cell_type": "code",
   "execution_count": 9,
   "id": "db4087dd",
   "metadata": {
    "execution": {
     "iopub.execute_input": "2022-09-11T08:05:32.872912Z",
     "iopub.status.busy": "2022-09-11T08:05:32.872515Z",
     "iopub.status.idle": "2022-09-11T08:05:32.890270Z",
     "shell.execute_reply": "2022-09-11T08:05:32.888884Z"
    },
    "papermill": {
     "duration": 0.033398,
     "end_time": "2022-09-11T08:05:32.892798",
     "exception": false,
     "start_time": "2022-09-11T08:05:32.859400",
     "status": "completed"
    },
    "tags": []
   },
   "outputs": [
    {
     "data": {
      "text/html": [
       "<div>\n",
       "<style scoped>\n",
       "    .dataframe tbody tr th:only-of-type {\n",
       "        vertical-align: middle;\n",
       "    }\n",
       "\n",
       "    .dataframe tbody tr th {\n",
       "        vertical-align: top;\n",
       "    }\n",
       "\n",
       "    .dataframe thead th {\n",
       "        text-align: right;\n",
       "    }\n",
       "</style>\n",
       "<table border=\"1\" class=\"dataframe\">\n",
       "  <thead>\n",
       "    <tr style=\"text-align: right;\">\n",
       "      <th></th>\n",
       "      <th>ca</th>\n",
       "      <th>community_area_name</th>\n",
       "      <th>percent_of_housing_crowded</th>\n",
       "      <th>percent_households_below_poverty</th>\n",
       "      <th>percent_aged_16_unemployed</th>\n",
       "      <th>percent_aged_25_without_high_school_diploma</th>\n",
       "      <th>percent_aged_under_18_or_over_64</th>\n",
       "      <th>per_capita_income_</th>\n",
       "      <th>hardship_index</th>\n",
       "    </tr>\n",
       "  </thead>\n",
       "  <tbody>\n",
       "    <tr>\n",
       "      <th>0</th>\n",
       "      <td>1.0</td>\n",
       "      <td>Rogers Park</td>\n",
       "      <td>7.7</td>\n",
       "      <td>23.6</td>\n",
       "      <td>8.7</td>\n",
       "      <td>18.2</td>\n",
       "      <td>27.5</td>\n",
       "      <td>23939</td>\n",
       "      <td>39.0</td>\n",
       "    </tr>\n",
       "    <tr>\n",
       "      <th>1</th>\n",
       "      <td>2.0</td>\n",
       "      <td>West Ridge</td>\n",
       "      <td>7.8</td>\n",
       "      <td>17.2</td>\n",
       "      <td>8.8</td>\n",
       "      <td>20.8</td>\n",
       "      <td>38.5</td>\n",
       "      <td>23040</td>\n",
       "      <td>46.0</td>\n",
       "    </tr>\n",
       "    <tr>\n",
       "      <th>2</th>\n",
       "      <td>3.0</td>\n",
       "      <td>Uptown</td>\n",
       "      <td>3.8</td>\n",
       "      <td>24.0</td>\n",
       "      <td>8.9</td>\n",
       "      <td>11.8</td>\n",
       "      <td>22.2</td>\n",
       "      <td>35787</td>\n",
       "      <td>20.0</td>\n",
       "    </tr>\n",
       "  </tbody>\n",
       "</table>\n",
       "</div>"
      ],
      "text/plain": [
       "    ca community_area_name  percent_of_housing_crowded  \\\n",
       "0  1.0         Rogers Park                         7.7   \n",
       "1  2.0          West Ridge                         7.8   \n",
       "2  3.0              Uptown                         3.8   \n",
       "\n",
       "   percent_households_below_poverty  percent_aged_16_unemployed  \\\n",
       "0                              23.6                         8.7   \n",
       "1                              17.2                         8.8   \n",
       "2                              24.0                         8.9   \n",
       "\n",
       "   percent_aged_25_without_high_school_diploma  \\\n",
       "0                                         18.2   \n",
       "1                                         20.8   \n",
       "2                                         11.8   \n",
       "\n",
       "   percent_aged_under_18_or_over_64  per_capita_income_  hardship_index  \n",
       "0                              27.5               23939            39.0  \n",
       "1                              38.5               23040            46.0  \n",
       "2                              22.2               35787            20.0  "
      ]
     },
     "execution_count": 9,
     "metadata": {},
     "output_type": "execute_result"
    }
   ],
   "source": [
    "df.head(3)"
   ]
  },
  {
   "cell_type": "markdown",
   "id": "90f2be12",
   "metadata": {
    "papermill": {
     "duration": 0.012016,
     "end_time": "2022-09-11T08:05:32.916934",
     "exception": false,
     "start_time": "2022-09-11T08:05:32.904918",
     "status": "completed"
    },
    "tags": []
   },
   "source": [
    "### Research Question 1:  How many community areas in Chicago have a hardship index greater than 50.0 ?\n"
   ]
  },
  {
   "cell_type": "code",
   "execution_count": 10,
   "id": "9ad70b7a",
   "metadata": {
    "execution": {
     "iopub.execute_input": "2022-09-11T08:05:32.943844Z",
     "iopub.status.busy": "2022-09-11T08:05:32.942830Z",
     "iopub.status.idle": "2022-09-11T08:05:32.950765Z",
     "shell.execute_reply": "2022-09-11T08:05:32.949763Z"
    },
    "papermill": {
     "duration": 0.023447,
     "end_time": "2022-09-11T08:05:32.952857",
     "exception": false,
     "start_time": "2022-09-11T08:05:32.929410",
     "status": "completed"
    },
    "tags": []
   },
   "outputs": [],
   "source": [
    "# We can filter our data to communities that have a hardship index graeter than 50.0\n",
    "Hardship_communities = df[['community_area_name','hardship_index']][df['hardship_index'] > 50.0].reset_index()"
   ]
  },
  {
   "cell_type": "code",
   "execution_count": 11,
   "id": "c208288a",
   "metadata": {
    "execution": {
     "iopub.execute_input": "2022-09-11T08:05:32.979339Z",
     "iopub.status.busy": "2022-09-11T08:05:32.978616Z",
     "iopub.status.idle": "2022-09-11T08:05:32.984488Z",
     "shell.execute_reply": "2022-09-11T08:05:32.983435Z"
    },
    "papermill": {
     "duration": 0.02228,
     "end_time": "2022-09-11T08:05:32.986941",
     "exception": false,
     "start_time": "2022-09-11T08:05:32.964661",
     "status": "completed"
    },
    "tags": []
   },
   "outputs": [],
   "source": [
    "Hardship_communities.drop(columns=['index'], inplace = True)"
   ]
  },
  {
   "cell_type": "code",
   "execution_count": 12,
   "id": "d3916a2c",
   "metadata": {
    "execution": {
     "iopub.execute_input": "2022-09-11T08:05:33.012979Z",
     "iopub.status.busy": "2022-09-11T08:05:33.012220Z",
     "iopub.status.idle": "2022-09-11T08:05:33.027366Z",
     "shell.execute_reply": "2022-09-11T08:05:33.025881Z"
    },
    "papermill": {
     "duration": 0.031372,
     "end_time": "2022-09-11T08:05:33.030320",
     "exception": false,
     "start_time": "2022-09-11T08:05:32.998948",
     "status": "completed"
    },
    "tags": []
   },
   "outputs": [
    {
     "data": {
      "text/html": [
       "<div>\n",
       "<style scoped>\n",
       "    .dataframe tbody tr th:only-of-type {\n",
       "        vertical-align: middle;\n",
       "    }\n",
       "\n",
       "    .dataframe tbody tr th {\n",
       "        vertical-align: top;\n",
       "    }\n",
       "\n",
       "    .dataframe thead th {\n",
       "        text-align: right;\n",
       "    }\n",
       "</style>\n",
       "<table border=\"1\" class=\"dataframe\">\n",
       "  <thead>\n",
       "    <tr style=\"text-align: right;\">\n",
       "      <th></th>\n",
       "      <th>community_area_name</th>\n",
       "      <th>hardship_index</th>\n",
       "    </tr>\n",
       "  </thead>\n",
       "  <tbody>\n",
       "    <tr>\n",
       "      <th>0</th>\n",
       "      <td>Albany Park</td>\n",
       "      <td>53.0</td>\n",
       "    </tr>\n",
       "    <tr>\n",
       "      <th>1</th>\n",
       "      <td>Belmont Cragin</td>\n",
       "      <td>70.0</td>\n",
       "    </tr>\n",
       "    <tr>\n",
       "      <th>2</th>\n",
       "      <td>Hermosa</td>\n",
       "      <td>71.0</td>\n",
       "    </tr>\n",
       "    <tr>\n",
       "      <th>3</th>\n",
       "      <td>Humboldt park</td>\n",
       "      <td>85.0</td>\n",
       "    </tr>\n",
       "    <tr>\n",
       "      <th>4</th>\n",
       "      <td>Austin</td>\n",
       "      <td>73.0</td>\n",
       "    </tr>\n",
       "    <tr>\n",
       "      <th>5</th>\n",
       "      <td>West Garfield Park</td>\n",
       "      <td>92.0</td>\n",
       "    </tr>\n",
       "    <tr>\n",
       "      <th>6</th>\n",
       "      <td>East Garfield Park</td>\n",
       "      <td>83.0</td>\n",
       "    </tr>\n",
       "    <tr>\n",
       "      <th>7</th>\n",
       "      <td>North Lawndale</td>\n",
       "      <td>87.0</td>\n",
       "    </tr>\n",
       "    <tr>\n",
       "      <th>8</th>\n",
       "      <td>South Lawndale</td>\n",
       "      <td>96.0</td>\n",
       "    </tr>\n",
       "    <tr>\n",
       "      <th>9</th>\n",
       "      <td>Lower West Side</td>\n",
       "      <td>76.0</td>\n",
       "    </tr>\n",
       "    <tr>\n",
       "      <th>10</th>\n",
       "      <td>Armour Square</td>\n",
       "      <td>82.0</td>\n",
       "    </tr>\n",
       "    <tr>\n",
       "      <th>11</th>\n",
       "      <td>Oakland</td>\n",
       "      <td>78.0</td>\n",
       "    </tr>\n",
       "    <tr>\n",
       "      <th>12</th>\n",
       "      <td>Fuller Park</td>\n",
       "      <td>97.0</td>\n",
       "    </tr>\n",
       "    <tr>\n",
       "      <th>13</th>\n",
       "      <td>Grand Boulevard</td>\n",
       "      <td>57.0</td>\n",
       "    </tr>\n",
       "    <tr>\n",
       "      <th>14</th>\n",
       "      <td>Washington Park</td>\n",
       "      <td>88.0</td>\n",
       "    </tr>\n",
       "    <tr>\n",
       "      <th>15</th>\n",
       "      <td>Woodlawn</td>\n",
       "      <td>58.0</td>\n",
       "    </tr>\n",
       "    <tr>\n",
       "      <th>16</th>\n",
       "      <td>South Shore</td>\n",
       "      <td>55.0</td>\n",
       "    </tr>\n",
       "    <tr>\n",
       "      <th>17</th>\n",
       "      <td>Chatham</td>\n",
       "      <td>60.0</td>\n",
       "    </tr>\n",
       "    <tr>\n",
       "      <th>18</th>\n",
       "      <td>South Chicago</td>\n",
       "      <td>75.0</td>\n",
       "    </tr>\n",
       "    <tr>\n",
       "      <th>19</th>\n",
       "      <td>Burnside</td>\n",
       "      <td>79.0</td>\n",
       "    </tr>\n",
       "    <tr>\n",
       "      <th>20</th>\n",
       "      <td>Roseland</td>\n",
       "      <td>52.0</td>\n",
       "    </tr>\n",
       "    <tr>\n",
       "      <th>21</th>\n",
       "      <td>Pullman</td>\n",
       "      <td>51.0</td>\n",
       "    </tr>\n",
       "    <tr>\n",
       "      <th>22</th>\n",
       "      <td>South Deering</td>\n",
       "      <td>65.0</td>\n",
       "    </tr>\n",
       "    <tr>\n",
       "      <th>23</th>\n",
       "      <td>East Side</td>\n",
       "      <td>64.0</td>\n",
       "    </tr>\n",
       "    <tr>\n",
       "      <th>24</th>\n",
       "      <td>West Pullman</td>\n",
       "      <td>62.0</td>\n",
       "    </tr>\n",
       "    <tr>\n",
       "      <th>25</th>\n",
       "      <td>Riverdale</td>\n",
       "      <td>98.0</td>\n",
       "    </tr>\n",
       "    <tr>\n",
       "      <th>26</th>\n",
       "      <td>Archer Heights</td>\n",
       "      <td>67.0</td>\n",
       "    </tr>\n",
       "    <tr>\n",
       "      <th>27</th>\n",
       "      <td>Brighton Park</td>\n",
       "      <td>84.0</td>\n",
       "    </tr>\n",
       "    <tr>\n",
       "      <th>28</th>\n",
       "      <td>McKinley Park</td>\n",
       "      <td>61.0</td>\n",
       "    </tr>\n",
       "    <tr>\n",
       "      <th>29</th>\n",
       "      <td>New City</td>\n",
       "      <td>91.0</td>\n",
       "    </tr>\n",
       "    <tr>\n",
       "      <th>30</th>\n",
       "      <td>West Elsdon</td>\n",
       "      <td>69.0</td>\n",
       "    </tr>\n",
       "    <tr>\n",
       "      <th>31</th>\n",
       "      <td>Gage Park</td>\n",
       "      <td>93.0</td>\n",
       "    </tr>\n",
       "    <tr>\n",
       "      <th>32</th>\n",
       "      <td>West Lawn</td>\n",
       "      <td>56.0</td>\n",
       "    </tr>\n",
       "    <tr>\n",
       "      <th>33</th>\n",
       "      <td>Chicago Lawn</td>\n",
       "      <td>80.0</td>\n",
       "    </tr>\n",
       "    <tr>\n",
       "      <th>34</th>\n",
       "      <td>West Englewood</td>\n",
       "      <td>89.0</td>\n",
       "    </tr>\n",
       "    <tr>\n",
       "      <th>35</th>\n",
       "      <td>Englewood</td>\n",
       "      <td>94.0</td>\n",
       "    </tr>\n",
       "    <tr>\n",
       "      <th>36</th>\n",
       "      <td>Greater Grand Crossing</td>\n",
       "      <td>66.0</td>\n",
       "    </tr>\n",
       "    <tr>\n",
       "      <th>37</th>\n",
       "      <td>Auburn Gresham</td>\n",
       "      <td>74.0</td>\n",
       "    </tr>\n",
       "  </tbody>\n",
       "</table>\n",
       "</div>"
      ],
      "text/plain": [
       "       community_area_name  hardship_index\n",
       "0              Albany Park            53.0\n",
       "1           Belmont Cragin            70.0\n",
       "2                  Hermosa            71.0\n",
       "3            Humboldt park            85.0\n",
       "4                   Austin            73.0\n",
       "5       West Garfield Park            92.0\n",
       "6       East Garfield Park            83.0\n",
       "7           North Lawndale            87.0\n",
       "8           South Lawndale            96.0\n",
       "9          Lower West Side            76.0\n",
       "10           Armour Square            82.0\n",
       "11                 Oakland            78.0\n",
       "12             Fuller Park            97.0\n",
       "13         Grand Boulevard            57.0\n",
       "14         Washington Park            88.0\n",
       "15                Woodlawn            58.0\n",
       "16             South Shore            55.0\n",
       "17                 Chatham            60.0\n",
       "18           South Chicago            75.0\n",
       "19                Burnside            79.0\n",
       "20                Roseland            52.0\n",
       "21                 Pullman            51.0\n",
       "22           South Deering            65.0\n",
       "23               East Side            64.0\n",
       "24            West Pullman            62.0\n",
       "25               Riverdale            98.0\n",
       "26          Archer Heights            67.0\n",
       "27           Brighton Park            84.0\n",
       "28           McKinley Park            61.0\n",
       "29                New City            91.0\n",
       "30             West Elsdon            69.0\n",
       "31               Gage Park            93.0\n",
       "32               West Lawn            56.0\n",
       "33            Chicago Lawn            80.0\n",
       "34          West Englewood            89.0\n",
       "35               Englewood            94.0\n",
       "36  Greater Grand Crossing            66.0\n",
       "37          Auburn Gresham            74.0"
      ]
     },
     "execution_count": 12,
     "metadata": {},
     "output_type": "execute_result"
    }
   ],
   "source": [
    "Hardship_communities"
   ]
  },
  {
   "cell_type": "code",
   "execution_count": 13,
   "id": "c7bcc82b",
   "metadata": {
    "execution": {
     "iopub.execute_input": "2022-09-11T08:05:33.056626Z",
     "iopub.status.busy": "2022-09-11T08:05:33.056197Z",
     "iopub.status.idle": "2022-09-11T08:05:33.062150Z",
     "shell.execute_reply": "2022-09-11T08:05:33.060967Z"
    },
    "papermill": {
     "duration": 0.021808,
     "end_time": "2022-09-11T08:05:33.064440",
     "exception": false,
     "start_time": "2022-09-11T08:05:33.042632",
     "status": "completed"
    },
    "tags": []
   },
   "outputs": [
    {
     "name": "stdout",
     "output_type": "stream",
     "text": [
      "Number of Communities areas in Chicago have with a hardship index greater than 50.0 is : 38\n"
     ]
    }
   ],
   "source": [
    "print(\"Number of Communities areas in Chicago have with a hardship index greater than 50.0 is :\", len(Hardship_communities))"
   ]
  },
  {
   "cell_type": "markdown",
   "id": "dcce528b",
   "metadata": {
    "papermill": {
     "duration": 0.012376,
     "end_time": "2022-09-11T08:05:33.089180",
     "exception": false,
     "start_time": "2022-09-11T08:05:33.076804",
     "status": "completed"
    },
    "tags": []
   },
   "source": [
    "### Research Question 2:  What is the maximum value of hardship index in this dataset ?"
   ]
  },
  {
   "cell_type": "code",
   "execution_count": 14,
   "id": "e4093a1f",
   "metadata": {
    "execution": {
     "iopub.execute_input": "2022-09-11T08:05:33.116242Z",
     "iopub.status.busy": "2022-09-11T08:05:33.115484Z",
     "iopub.status.idle": "2022-09-11T08:05:33.121931Z",
     "shell.execute_reply": "2022-09-11T08:05:33.120383Z"
    },
    "papermill": {
     "duration": 0.024794,
     "end_time": "2022-09-11T08:05:33.126329",
     "exception": false,
     "start_time": "2022-09-11T08:05:33.101535",
     "status": "completed"
    },
    "tags": []
   },
   "outputs": [
    {
     "name": "stdout",
     "output_type": "stream",
     "text": [
      "The maximum value of hardship index is : 98.0\n"
     ]
    }
   ],
   "source": [
    "print('The maximum value of hardship index is :',Hardship_communities['hardship_index'].max())"
   ]
  },
  {
   "cell_type": "markdown",
   "id": "3799cb60",
   "metadata": {
    "papermill": {
     "duration": 0.01263,
     "end_time": "2022-09-11T08:05:33.152014",
     "exception": false,
     "start_time": "2022-09-11T08:05:33.139384",
     "status": "completed"
    },
    "tags": []
   },
   "source": [
    "### Research Question 3: Which community area which has the highest hardship index?"
   ]
  },
  {
   "cell_type": "code",
   "execution_count": 15,
   "id": "3ea21fd8",
   "metadata": {
    "execution": {
     "iopub.execute_input": "2022-09-11T08:05:33.178868Z",
     "iopub.status.busy": "2022-09-11T08:05:33.178359Z",
     "iopub.status.idle": "2022-09-11T08:05:33.186801Z",
     "shell.execute_reply": "2022-09-11T08:05:33.185971Z"
    },
    "papermill": {
     "duration": 0.024114,
     "end_time": "2022-09-11T08:05:33.188851",
     "exception": false,
     "start_time": "2022-09-11T08:05:33.164737",
     "status": "completed"
    },
    "tags": []
   },
   "outputs": [
    {
     "data": {
      "text/plain": [
       "25    Riverdale\n",
       "Name: community_area_name, dtype: object"
      ]
     },
     "execution_count": 15,
     "metadata": {},
     "output_type": "execute_result"
    }
   ],
   "source": [
    "area = Hardship_communities['community_area_name'][Hardship_communities['hardship_index']==98.0]\n",
    "area"
   ]
  },
  {
   "cell_type": "code",
   "execution_count": 16,
   "id": "9da9ed5f",
   "metadata": {
    "execution": {
     "iopub.execute_input": "2022-09-11T08:05:33.215635Z",
     "iopub.status.busy": "2022-09-11T08:05:33.215228Z",
     "iopub.status.idle": "2022-09-11T08:05:33.221029Z",
     "shell.execute_reply": "2022-09-11T08:05:33.220047Z"
    },
    "papermill": {
     "duration": 0.022503,
     "end_time": "2022-09-11T08:05:33.223857",
     "exception": false,
     "start_time": "2022-09-11T08:05:33.201354",
     "status": "completed"
    },
    "tags": []
   },
   "outputs": [
    {
     "name": "stdout",
     "output_type": "stream",
     "text": [
      "The community area that has the highest hardship index is:  ['Riverdale']\n"
     ]
    }
   ],
   "source": [
    "print(\"The community area that has the highest hardship index is: \",area.values)"
   ]
  },
  {
   "cell_type": "markdown",
   "id": "53d07d62",
   "metadata": {
    "papermill": {
     "duration": 0.012169,
     "end_time": "2022-09-11T08:05:33.248618",
     "exception": false,
     "start_time": "2022-09-11T08:05:33.236449",
     "status": "completed"
    },
    "tags": []
   },
   "source": [
    "### Research Question 4: Which Chicago community areas have per-capita incomes greater than $60,000?"
   ]
  },
  {
   "cell_type": "code",
   "execution_count": 17,
   "id": "4821724f",
   "metadata": {
    "execution": {
     "iopub.execute_input": "2022-09-11T08:05:33.275656Z",
     "iopub.status.busy": "2022-09-11T08:05:33.275226Z",
     "iopub.status.idle": "2022-09-11T08:05:33.281850Z",
     "shell.execute_reply": "2022-09-11T08:05:33.280946Z"
    },
    "papermill": {
     "duration": 0.02279,
     "end_time": "2022-09-11T08:05:33.284115",
     "exception": false,
     "start_time": "2022-09-11T08:05:33.261325",
     "status": "completed"
    },
    "tags": []
   },
   "outputs": [],
   "source": [
    "Per_capita_communities = df[['community_area_name', 'per_capita_income_']][df['per_capita_income_']>60000]"
   ]
  },
  {
   "cell_type": "code",
   "execution_count": 18,
   "id": "f591b0cf",
   "metadata": {
    "execution": {
     "iopub.execute_input": "2022-09-11T08:05:33.312156Z",
     "iopub.status.busy": "2022-09-11T08:05:33.310709Z",
     "iopub.status.idle": "2022-09-11T08:05:33.519812Z",
     "shell.execute_reply": "2022-09-11T08:05:33.518140Z"
    },
    "papermill": {
     "duration": 0.227369,
     "end_time": "2022-09-11T08:05:33.524198",
     "exception": false,
     "start_time": "2022-09-11T08:05:33.296829",
     "status": "completed"
    },
    "tags": []
   },
   "outputs": [
    {
     "data": {
      "image/png": "[encoded data removed]",
      "text/plain": [
       "<Figure size 432x288 with 1 Axes>"
      ]
     },
     "metadata": {},
     "output_type": "display_data"
    }
   ],
   "source": [
    "# Data visualization using matlibplot and seaborn libraries\n",
    "# define Seaborn color palette to use\n",
    "palette_color = sns.color_palette('RdYlGn')\n",
    "  \n",
    "# plotting data on chart\n",
    "plt.pie(Per_capita_communities['per_capita_income_'], \n",
    "        labels =Per_capita_communities['community_area_name'],\n",
    "        explode=[0, 0, 0.1, 0] ,colors = palette_color,autopct ='%.1f%%', shadow = True)\n",
    "plt.title(\"Top Per_capiat_income Communities\")        \n",
    "# displaying chart\n",
    "plt.show()"
   ]
  },
  {
   "cell_type": "markdown",
   "id": "1bc6fc6c",
   "metadata": {
    "papermill": {
     "duration": 0.015793,
     "end_time": "2022-09-11T08:05:33.573456",
     "exception": false,
     "start_time": "2022-09-11T08:05:33.557663",
     "status": "completed"
    },
    "tags": []
   },
   "source": [
    "We notice from the piechart above that \"Near North Side\" region, has the highest per_capita_income (person income).\n",
    "\n"
   ]
  },
  {
   "cell_type": "markdown",
   "id": "ad8ed4c3",
   "metadata": {
    "papermill": {
     "duration": 0.012628,
     "end_time": "2022-09-11T08:05:33.599680",
     "exception": false,
     "start_time": "2022-09-11T08:05:33.587052",
     "status": "completed"
    },
    "tags": []
   },
   "source": [
    "### Research Question 5: Which Chicago community areas have the highest Percent of housing crowded ?"
   ]
  },
  {
   "cell_type": "code",
   "execution_count": 19,
   "id": "d869126f",
   "metadata": {
    "execution": {
     "iopub.execute_input": "2022-09-11T08:05:33.628124Z",
     "iopub.status.busy": "2022-09-11T08:05:33.627307Z",
     "iopub.status.idle": "2022-09-11T08:05:33.639996Z",
     "shell.execute_reply": "2022-09-11T08:05:33.638551Z"
    },
    "papermill": {
     "duration": 0.030641,
     "end_time": "2022-09-11T08:05:33.643197",
     "exception": false,
     "start_time": "2022-09-11T08:05:33.612556",
     "status": "completed"
    },
    "tags": []
   },
   "outputs": [],
   "source": [
    "Most_crouded_regions = df.groupby('community_area_name')['percent_of_housing_crowded'].max().nlargest(10)"
   ]
  },
  {
   "cell_type": "code",
   "execution_count": 20,
   "id": "31be9e3d",
   "metadata": {
    "execution": {
     "iopub.execute_input": "2022-09-11T08:05:33.671307Z",
     "iopub.status.busy": "2022-09-11T08:05:33.670101Z",
     "iopub.status.idle": "2022-09-11T08:05:33.861548Z",
     "shell.execute_reply": "2022-09-11T08:05:33.860219Z"
    },
    "papermill": {
     "duration": 0.207989,
     "end_time": "2022-09-11T08:05:33.864017",
     "exception": false,
     "start_time": "2022-09-11T08:05:33.656028",
     "status": "completed"
    },
    "tags": []
   },
   "outputs": [
    {
     "data": {
      "image/png": "[encoded data removed]",
      "text/plain": [
       "<Figure size 432x288 with 1 Axes>"
      ]
     },
     "metadata": {
      "needs_background": "light"
     },
     "output_type": "display_data"
    }
   ],
   "source": [
    "plt.bar(x=Most_crouded_regions.index, height= Most_crouded_regions.values, color='orange')\n",
    "plt.xticks(rotation=90)\n",
    "plt.xlabel(\"Region\")\n",
    "plt.ylabel(\"Percent of housing crowded\")\n",
    "plt.title(\"Chicago regions have the highest Percent of housing crowded\")\n",
    "plt.show();"
   ]
  },
  {
   "cell_type": "markdown",
   "id": "642a7712",
   "metadata": {
    "papermill": {
     "duration": 0.013528,
     "end_time": "2022-09-11T08:05:33.891344",
     "exception": false,
     "start_time": "2022-09-11T08:05:33.877816",
     "status": "completed"
    },
    "tags": []
   },
   "source": [
    "### Research Question 6: Which Chicago community areas are the richest ?\n"
   ]
  },
  {
   "cell_type": "code",
   "execution_count": 21,
   "id": "52d99822",
   "metadata": {
    "execution": {
     "iopub.execute_input": "2022-09-11T08:05:33.919555Z",
     "iopub.status.busy": "2022-09-11T08:05:33.919155Z",
     "iopub.status.idle": "2022-09-11T08:05:33.926629Z",
     "shell.execute_reply": "2022-09-11T08:05:33.925393Z"
    },
    "papermill": {
     "duration": 0.024502,
     "end_time": "2022-09-11T08:05:33.929114",
     "exception": false,
     "start_time": "2022-09-11T08:05:33.904612",
     "status": "completed"
    },
    "tags": []
   },
   "outputs": [],
   "source": [
    "Richest_regions = df.groupby('community_area_name')['percent_households_below_poverty'].max().nsmallest(3)"
   ]
  },
  {
   "cell_type": "code",
   "execution_count": 22,
   "id": "ae6558d5",
   "metadata": {
    "execution": {
     "iopub.execute_input": "2022-09-11T08:05:33.957623Z",
     "iopub.status.busy": "2022-09-11T08:05:33.957202Z",
     "iopub.status.idle": "2022-09-11T08:05:34.229855Z",
     "shell.execute_reply": "2022-09-11T08:05:34.228390Z"
    },
    "papermill": {
     "duration": 0.293548,
     "end_time": "2022-09-11T08:05:34.235969",
     "exception": false,
     "start_time": "2022-09-11T08:05:33.942421",
     "status": "completed"
    },
    "tags": []
   },
   "outputs": [
    {
     "data": {
      "image/png": "[encoded data removed]",
      "text/plain": [
       "<Figure size 432x288 with 1 Axes>"
      ]
     },
     "metadata": {
      "needs_background": "light"
     },
     "output_type": "display_data"
    }
   ],
   "source": [
    "plt.barh(width=Richest_regions.values, y=Richest_regions.index,height=0.5, align='center')\n",
    "plt.ylabel('Region')\n",
    "plt.xlabel('Poverty Index')\n",
    "plt.title('Richest Chicago regions')\n",
    "plt.show()"
   ]
  },
  {
   "cell_type": "markdown",
   "id": "68571901",
   "metadata": {
    "papermill": {
     "duration": 0.012949,
     "end_time": "2022-09-11T08:05:34.266708",
     "exception": false,
     "start_time": "2022-09-11T08:05:34.253759",
     "status": "completed"
    },
    "tags": []
   },
   "source": [
    "### Research Question 7: Which Regions need to develop their educational level ?"
   ]
  },
  {
   "cell_type": "code",
   "execution_count": 23,
   "id": "eab4f940",
   "metadata": {
    "execution": {
     "iopub.execute_input": "2022-09-11T08:05:34.295810Z",
     "iopub.status.busy": "2022-09-11T08:05:34.294739Z",
     "iopub.status.idle": "2022-09-11T08:05:34.302619Z",
     "shell.execute_reply": "2022-09-11T08:05:34.301757Z"
    },
    "papermill": {
     "duration": 0.024947,
     "end_time": "2022-09-11T08:05:34.305146",
     "exception": false,
     "start_time": "2022-09-11T08:05:34.280199",
     "status": "completed"
    },
    "tags": []
   },
   "outputs": [],
   "source": [
    "Low_edu = df.groupby('community_area_name')['percent_aged_25_without_high_school_diploma'].max().nlargest(5).reset_index()"
   ]
  },
  {
   "cell_type": "code",
   "execution_count": 24,
   "id": "39c5e39f",
   "metadata": {
    "execution": {
     "iopub.execute_input": "2022-09-11T08:05:34.335257Z",
     "iopub.status.busy": "2022-09-11T08:05:34.334474Z",
     "iopub.status.idle": "2022-09-11T08:05:34.344942Z",
     "shell.execute_reply": "2022-09-11T08:05:34.343853Z"
    },
    "papermill": {
     "duration": 0.028276,
     "end_time": "2022-09-11T08:05:34.347400",
     "exception": false,
     "start_time": "2022-09-11T08:05:34.319124",
     "status": "completed"
    },
    "tags": []
   },
   "outputs": [
    {
     "data": {
      "text/html": [
       "<div>\n",
       "<style scoped>\n",
       "    .dataframe tbody tr th:only-of-type {\n",
       "        vertical-align: middle;\n",
       "    }\n",
       "\n",
       "    .dataframe tbody tr th {\n",
       "        vertical-align: top;\n",
       "    }\n",
       "\n",
       "    .dataframe thead th {\n",
       "        text-align: right;\n",
       "    }\n",
       "</style>\n",
       "<table border=\"1\" class=\"dataframe\">\n",
       "  <thead>\n",
       "    <tr style=\"text-align: right;\">\n",
       "      <th></th>\n",
       "      <th>community_area_name</th>\n",
       "      <th>percent_aged_25_without_high_school_diploma</th>\n",
       "    </tr>\n",
       "  </thead>\n",
       "  <tbody>\n",
       "    <tr>\n",
       "      <th>0</th>\n",
       "      <td>South Lawndale</td>\n",
       "      <td>54.8</td>\n",
       "    </tr>\n",
       "    <tr>\n",
       "      <th>1</th>\n",
       "      <td>Gage Park</td>\n",
       "      <td>51.5</td>\n",
       "    </tr>\n",
       "    <tr>\n",
       "      <th>2</th>\n",
       "      <td>Brighton Park</td>\n",
       "      <td>45.1</td>\n",
       "    </tr>\n",
       "    <tr>\n",
       "      <th>3</th>\n",
       "      <td>Hermosa</td>\n",
       "      <td>41.6</td>\n",
       "    </tr>\n",
       "    <tr>\n",
       "      <th>4</th>\n",
       "      <td>New City</td>\n",
       "      <td>41.5</td>\n",
       "    </tr>\n",
       "  </tbody>\n",
       "</table>\n",
       "</div>"
      ],
      "text/plain": [
       "  community_area_name  percent_aged_25_without_high_school_diploma\n",
       "0      South Lawndale                                         54.8\n",
       "1           Gage Park                                         51.5\n",
       "2       Brighton Park                                         45.1\n",
       "3             Hermosa                                         41.6\n",
       "4            New City                                         41.5"
      ]
     },
     "execution_count": 24,
     "metadata": {},
     "output_type": "execute_result"
    }
   ],
   "source": [
    "Low_edu"
   ]
  },
  {
   "cell_type": "code",
   "execution_count": 25,
   "id": "18a184f5",
   "metadata": {
    "execution": {
     "iopub.execute_input": "2022-09-11T08:05:34.378270Z",
     "iopub.status.busy": "2022-09-11T08:05:34.377432Z",
     "iopub.status.idle": "2022-09-11T08:05:34.534046Z",
     "shell.execute_reply": "2022-09-11T08:05:34.532396Z"
    },
    "papermill": {
     "duration": 0.177511,
     "end_time": "2022-09-11T08:05:34.538662",
     "exception": false,
     "start_time": "2022-09-11T08:05:34.361151",
     "status": "completed"
    },
    "tags": []
   },
   "outputs": [
    {
     "data": {
      "image/png": "[encoded data removed]",
      "text/plain": [
       "<Figure size 432x288 with 1 Axes>"
      ]
     },
     "metadata": {},
     "output_type": "display_data"
    }
   ],
   "source": [
    "# Data visualization using matlibplot and seaborn libraries\n",
    "# define Seaborn color palette to use\n",
    "palette_color = sns.color_palette('dark')\n",
    "  \n",
    "# plotting data on chart\n",
    "plt.pie(Low_edu['percent_aged_25_without_high_school_diploma'], \n",
    "        labels =Low_edu['community_area_name'],\n",
    "        explode=[0.1, 0, 0, 0, 0] ,colors = palette_color,autopct ='%.1f%%', shadow = True)\n",
    "plt.title(\"Top Per_capiat_income Communities\")        \n",
    "# displaying chart\n",
    "plt.show()"
   ]
  },
  {
   "cell_type": "markdown",
   "id": "32bdca13",
   "metadata": {
    "papermill": {
     "duration": 0.022003,
     "end_time": "2022-09-11T08:05:34.596526",
     "exception": false,
     "start_time": "2022-09-11T08:05:34.574523",
     "status": "completed"
    },
    "tags": []
   },
   "source": [
    "### Let's have a look on the age distribution of Chicago regions"
   ]
  },
  {
   "cell_type": "code",
   "execution_count": 26,
   "id": "b797a7f6",
   "metadata": {
    "execution": {
     "iopub.execute_input": "2022-09-11T08:05:34.627381Z",
     "iopub.status.busy": "2022-09-11T08:05:34.626588Z",
     "iopub.status.idle": "2022-09-11T08:05:34.847820Z",
     "shell.execute_reply": "2022-09-11T08:05:34.846646Z"
    },
    "papermill": {
     "duration": 0.239769,
     "end_time": "2022-09-11T08:05:34.850472",
     "exception": false,
     "start_time": "2022-09-11T08:05:34.610703",
     "status": "completed"
    },
    "tags": []
   },
   "outputs": [
    {
     "data": {
      "image/png": "[encoded data removed]",
      "text/plain": [
       "<Figure size 432x288 with 1 Axes>"
      ]
     },
     "metadata": {
      "needs_background": "light"
     },
     "output_type": "display_data"
    }
   ],
   "source": [
    "plt.hist(df[\"percent_aged_under_18_or_over_64\"],color='pink')\n",
    "plt.xlabel(\"Age ranges\")\n",
    "plt.ylabel('Frequency')\n",
    "plt.title('Distribution of Ages of Chicago regions')\n",
    "plt.show()"
   ]
  },
  {
   "cell_type": "markdown",
   "id": "acd0a993",
   "metadata": {
    "papermill": {
     "duration": 0.015923,
     "end_time": "2022-09-11T08:05:34.881398",
     "exception": false,
     "start_time": "2022-09-11T08:05:34.865475",
     "status": "completed"
    },
    "tags": []
   },
   "source": [
    "WE notice that the ages 35-40 are the dominant ages in Chicago regions"
   ]
  },
  {
   "cell_type": "markdown",
   "id": "7be36259",
   "metadata": {
    "papermill": {
     "duration": 0.015085,
     "end_time": "2022-09-11T08:05:34.911345",
     "exception": false,
     "start_time": "2022-09-11T08:05:34.896260",
     "status": "completed"
    },
    "tags": []
   },
   "source": [
    "### Research Question 8: Create a scatter plot using the variables `per_capita_income_` and `hardship_index`. Explain the correlation between the two variables."
   ]
  },
  {
   "cell_type": "code",
   "execution_count": 27,
   "id": "29872900",
   "metadata": {
    "execution": {
     "iopub.execute_input": "2022-09-11T08:05:34.942980Z",
     "iopub.status.busy": "2022-09-11T08:05:34.942541Z",
     "iopub.status.idle": "2022-09-11T08:05:34.951948Z",
     "shell.execute_reply": "2022-09-11T08:05:34.950794Z"
    },
    "papermill": {
     "duration": 0.027579,
     "end_time": "2022-09-11T08:05:34.954193",
     "exception": false,
     "start_time": "2022-09-11T08:05:34.926614",
     "status": "completed"
    },
    "tags": []
   },
   "outputs": [
    {
     "name": "stdout",
     "output_type": "stream",
     "text": [
      "Correlation between hardship_index and per_capita_income_ is : -0.85\n"
     ]
    }
   ],
   "source": [
    "col1=\"hardship_index\"\n",
    "col2=\"per_capita_income_\"\n",
    "\n",
    "corr = df[col1].corr(df[col2])\n",
    "print (\"Correlation between {} and {} is : {}\".format(col1,col2,round(corr, 2))) "
   ]
  },
  {
   "cell_type": "code",
   "execution_count": 28,
   "id": "ce48cae7",
   "metadata": {
    "execution": {
     "iopub.execute_input": "2022-09-11T08:05:34.988989Z",
     "iopub.status.busy": "2022-09-11T08:05:34.985973Z",
     "iopub.status.idle": "2022-09-11T08:05:35.569621Z",
     "shell.execute_reply": "2022-09-11T08:05:35.568174Z"
    },
    "papermill": {
     "duration": 0.602716,
     "end_time": "2022-09-11T08:05:35.572154",
     "exception": false,
     "start_time": "2022-09-11T08:05:34.969438",
     "status": "completed"
    },
    "tags": []
   },
   "outputs": [
    {
     "data": {
      "image/png": "[encoded data removed]",
      "text/plain": [
       "<Figure size 432x432 with 3 Axes>"
      ]
     },
     "metadata": {
      "needs_background": "light"
     },
     "output_type": "display_data"
    }
   ],
   "source": [
    "# Let's darw the scatter plot using seaborn library\n",
    "plot = sns.jointplot(x='hardship_index', y='per_capita_income_', data=df)\n",
    "plt.title('Relationship between hardship)index and per_capita_income')\n",
    "plt.show()"
   ]
  },
  {
   "cell_type": "markdown",
   "id": "2aa73836",
   "metadata": {
    "papermill": {
     "duration": 0.014725,
     "end_time": "2022-09-11T08:05:35.602267",
     "exception": false,
     "start_time": "2022-09-11T08:05:35.587542",
     "status": "completed"
    },
    "tags": []
   },
   "source": [
    "We notice that thers is a strong negative correlation between hardship index and per_capita_income, when hardship index increases, person income in his city region decreses and vice versa. "
   ]
  },
  {
   "cell_type": "markdown",
   "id": "f498c074",
   "metadata": {
    "papermill": {
     "duration": 0.014705,
     "end_time": "2022-09-11T08:05:35.631952",
     "exception": false,
     "start_time": "2022-09-11T08:05:35.617247",
     "status": "completed"
    },
    "tags": []
   },
   "source": [
    "## Conclusions"
   ]
  },
  {
   "cell_type": "markdown",
   "id": "e7191560",
   "metadata": {
    "papermill": {
     "duration": 0.014629,
     "end_time": "2022-09-11T08:05:35.661606",
     "exception": false,
     "start_time": "2022-09-11T08:05:35.646977",
     "status": "completed"
    },
    "tags": []
   },
   "source": [
    "At the end of the analysis we got answers to our questions such as:\n",
    "How many community areas in Chicago have a hardship index greater than 50.0? Riverdale, Fuller Park, and South Lawndale\n",
    "\n",
    "What is the maximum value of hardship index in this dataset? 98.0\n",
    "\n",
    "Which community area which has the highest hardship index? Riverdale\n",
    "\n",
    "Which Chicago community areas have per-capita incomes greater than $60,000?\n",
    "Near North Side, Lincoln Park, Loop, and Lake View\n",
    "\n",
    "Which Chicago community areas have the highest Percent of housing crowded ?\n",
    "\n",
    "Which Chicago community areas are the richest ? Edison Park, Mount Greenwood, Beverly \n",
    "   \n",
    "Which regions need to develop their educational level ? South Lawndale,Gage Park,Brighton Park,Hermosa,New City\n",
    "\n",
    "Create a scatter plot using the variables `per_capita_income_` and `hardship_index`. Explain the correlation between the two variables. Negative correlation (-0.85)\n",
    "\n",
    "And we have noticed at the last question answer, that when hardship index increases, person income dcreases and vice versa."
   ]
  },
  {
   "cell_type": "markdown",
   "id": "1b879425",
   "metadata": {
    "papermill": {
     "duration": 0.014701,
     "end_time": "2022-09-11T08:05:35.691302",
     "exception": false,
     "start_time": "2022-09-11T08:05:35.676601",
     "status": "completed"
    },
    "tags": []
   },
   "source": [
    "## Thanks for your time"
   ]
  }
 ],
 "metadata": {
  "kernelspec": {
   "display_name": "Python 3",
   "language": "python",
   "name": "python3"
  },
  "language_info": {
   "codemirror_mode": {
    "name": "ipython",
    "version": 3
   },
   "file_extension": ".py",
   "mimetype": "text/x-python",
   "name": "python",
   "nbconvert_exporter": "python",
   "pygments_lexer": "ipython3",
   "version": "3.7.12"
  },
  "papermill": {
   "default_parameters": {},
   "duration": 31.101389,
   "end_time": "2022-09-11T08:05:36.630145",
   "environment_variables": {},
   "exception": null,
   "input_path": "__notebook__.ipynb",
   "output_path": "__notebook__.ipynb",
   "parameters": {},
   "start_time": "2022-09-11T08:05:05.528756",
   "version": "2.3.4"
  }
 },
 "nbformat": 4,
 "nbformat_minor": 5
}
